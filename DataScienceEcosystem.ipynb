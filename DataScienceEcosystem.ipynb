{
 "cells": [
  {
   "cell_type": "markdown",
   "id": "b3a939f9",
   "metadata": {},
   "source": [
    "# Data science tools and ecosystem"
   ]
  },
  {
   "cell_type": "markdown",
   "id": "f1e0eb32",
   "metadata": {},
   "source": [
    "In this notebook, Data Science Tools and Ecosystem are summarized."
   ]
  },
  {
   "cell_type": "markdown",
   "id": "43786b8b",
   "metadata": {},
   "source": [
    "Objectives:\n",
    "\n",
    "* Get to know some of the popular data science languages\n",
    "* Get to know some of the libraries used by data scientists\n",
    "* Get to know some of the open source data science tools\n",
    "* Learn about arithmetic expressions in Python"
   ]
  },
  {
   "cell_type": "markdown",
   "id": "d1d7a6b6",
   "metadata": {},
   "source": [
    "Some of the popular languages that Data Scientists use are:\n",
    "\n",
    "1. Python\n",
    "2. R\n",
    "3. Scala\n",
    "4. Java"
   ]
  },
  {
   "cell_type": "markdown",
   "id": "c4fcb584",
   "metadata": {},
   "source": [
    "Some of the commonly used libraries used by Data Scientists include:\n",
    "\n",
    "1. Pandas\n",
    "2. Scikit-Learn\n",
    "3. NumPy\n",
    "4. MatPlotLib"
   ]
  },
  {
   "cell_type": "markdown",
   "id": "cad26cce",
   "metadata": {},
   "source": [
    "|Data science tools|\n",
    "-----------------------\n",
    "|Github|\n",
    "|Jupyter|\n",
    "|PostgreSQL|"
   ]
  },
  {
   "cell_type": "markdown",
   "id": "1bea7509",
   "metadata": {},
   "source": [
    "### Below are a few examples of evaluating arithmetic expressions in Python\n"
   ]
  },
  {
   "cell_type": "code",
   "execution_count": 2,
   "id": "cef794b3",
   "metadata": {},
   "outputs": [
    {
     "data": {
      "text/plain": [
       "17"
      ]
     },
     "execution_count": 2,
     "metadata": {},
     "output_type": "execute_result"
    }
   ],
   "source": [
    "# This a simple arithmetic expression to mutiply then add integers\n",
    "(3*4)+5"
   ]
  },
  {
   "cell_type": "code",
   "execution_count": 3,
   "id": "a8e101e4",
   "metadata": {},
   "outputs": [
    {
     "data": {
      "text/plain": [
       "3.3333333333333335"
      ]
     },
     "execution_count": 3,
     "metadata": {},
     "output_type": "execute_result"
    }
   ],
   "source": [
    "# This will convert 200 minutes to hours by divding by 60\n",
    "200 / 60 "
   ]
  },
  {
   "cell_type": "markdown",
   "id": "9bc5c4d5",
   "metadata": {},
   "source": [
    "## Author\n",
    "Pascal Mennings"
   ]
  },
  {
   "cell_type": "code",
   "execution_count": null,
   "id": "2c02673f",
   "metadata": {},
   "outputs": [],
   "source": []
  }
 ],
 "metadata": {
  "kernelspec": {
   "display_name": "Python 3 (ipykernel)",
   "language": "python",
   "name": "python3"
  },
  "language_info": {
   "codemirror_mode": {
    "name": "ipython",
    "version": 3
   },
   "file_extension": ".py",
   "mimetype": "text/x-python",
   "name": "python",
   "nbconvert_exporter": "python",
   "pygments_lexer": "ipython3",
   "version": "3.10.10"
  }
 },
 "nbformat": 4,
 "nbformat_minor": 5
}
